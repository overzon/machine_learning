{
 "cells": [
  {
   "cell_type": "code",
   "execution_count": null,
   "metadata": {},
   "outputs": [],
   "source": []
  },
  {
   "cell_type": "code",
   "execution_count": 16,
   "metadata": {},
   "outputs": [],
   "source": [
    "import gensim\n",
    "model = gensim.models.KeyedVectors.load_word2vec_format('GoogleNews-vectors-negative300.bin.gz',binary=True,limit=1000000)"
   ]
  },
  {
   "cell_type": "code",
   "execution_count": 29,
   "metadata": {},
   "outputs": [
    {
     "data": {
      "text/plain": [
       "3.9751356"
      ]
     },
     "execution_count": 29,
     "metadata": {},
     "output_type": "execute_result"
    }
   ],
   "source": [
    "import numpy as np\n",
    "w1 = model[\"com\"]\n",
    "w2 = model[\"water\"]\n",
    "# w3 = model[\"cat\"]\n",
    "dist = np.linalg.norm(w1-w2)\n",
    "# print(w)\n",
    "dist"
   ]
  },
  {
   "cell_type": "code",
   "execution_count": 30,
   "metadata": {},
   "outputs": [
    {
     "data": {
      "text/plain": [
       "[('four', 0.9089938998222351),\n",
       " ('five', 0.8749440908432007),\n",
       " ('six', 0.844359278678894),\n",
       " ('seven', 0.8401903510093689),\n",
       " ('eight', 0.8255620002746582),\n",
       " ('nine', 0.7836190462112427),\n",
       " ('several', 0.6689614057540894),\n",
       " ('eleven', 0.6571781635284424),\n",
       " ('ten', 0.6423938870429993),\n",
       " ('Two', 0.6146996021270752)]"
      ]
     },
     "execution_count": 30,
     "metadata": {},
     "output_type": "execute_result"
    }
   ],
   "source": [
    "model.most_similar(positive=[\"one\", \"two\", \"three\"])"
   ]
  },
  {
   "cell_type": "code",
   "execution_count": 37,
   "metadata": {},
   "outputs": [
    {
     "data": {
      "text/plain": [
       "[('waitress', 0.6608017683029175),\n",
       " ('man', 0.5735881924629211),\n",
       " ('cab_driver', 0.5519332885742188),\n",
       " ('girl', 0.5486032962799072),\n",
       " ('cabbie', 0.5346103310585022),\n",
       " ('lady', 0.5320979356765747),\n",
       " ('bartender', 0.5272341966629028),\n",
       " ('policewoman', 0.5184364318847656),\n",
       " ('cabdriver', 0.517726719379425),\n",
       " ('maid', 0.5126746892929077)]"
      ]
     },
     "execution_count": 37,
     "metadata": {},
     "output_type": "execute_result"
    }
   ],
   "source": [
    "model.most_similar(positive=[\"waiter\",\"woman\"],negative=[\"main\"])"
   ]
  },
  {
   "cell_type": "code",
   "execution_count": 38,
   "metadata": {
    "scrolled": true
   },
   "outputs": [
    {
     "data": {
      "text/plain": [
       "'magazine'"
      ]
     },
     "execution_count": 38,
     "metadata": {},
     "output_type": "execute_result"
    }
   ],
   "source": [
    "model.doesnt_match(\"cat dog eagle magazine\".split())"
   ]
  },
  {
   "cell_type": "code",
   "execution_count": null,
   "metadata": {},
   "outputs": [],
   "source": []
  }
 ],
 "metadata": {
  "kernelspec": {
   "display_name": "Python 3",
   "language": "python",
   "name": "python3"
  },
  "language_info": {
   "codemirror_mode": {
    "name": "ipython",
    "version": 3
   },
   "file_extension": ".py",
   "mimetype": "text/x-python",
   "name": "python",
   "nbconvert_exporter": "python",
   "pygments_lexer": "ipython3",
   "version": "3.6.5"
  }
 },
 "nbformat": 4,
 "nbformat_minor": 2
}
