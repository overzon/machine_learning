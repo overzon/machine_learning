{
 "cells": [
  {
   "cell_type": "code",
   "execution_count": 1,
   "metadata": {
    "scrolled": true
   },
   "outputs": [
    {
     "name": "stdout",
     "output_type": "stream",
     "text": [
      "digraph Tree {\n",
      "node [shape=box, style=\"filled, rounded\", color=\"black\", fontname=helvetica] ;\n",
      "edge [fontname=helvetica] ;\n",
      "0 [label=\"Rank_grade_total_Bad <= 0.5\\nentropy = 1.878\\nsamples = 750\\nvalue = [251, 275, 120, 104]\\nclass = marketing\", fillcolor=\"#47e5390c\"] ;\n",
      "1 [label=\"Rank_grade_major_Good <= 0.5\\nentropy = 1.303\\nsamples = 387\\nvalue = [16, 260, 23, 88]\\nclass = marketing\", fillcolor=\"#47e53993\"] ;\n",
      "0 -> 1 [labeldistance=2.5, labelangle=45, headlabel=\"True\"] ;\n",
      "2 [label=\"Student_ID <= 188.0\\nentropy = 0.805\\nsamples = 199\\nvalue = [8, 171, 12, 8]\\nclass = marketing\", fillcolor=\"#47e539d9\"] ;\n",
      "1 -> 2 ;\n",
      "3 [label=\"entropy = 0.818\\nsamples = 41\\nvalue = [0, 33, 7, 1]\\nclass = marketing\", fillcolor=\"#47e539c3\"] ;\n",
      "2 -> 3 ;\n",
      "4 [label=\"entropy = 0.745\\nsamples = 158\\nvalue = [8, 138, 5, 7]\\nclass = marketing\", fillcolor=\"#47e539dd\"] ;\n",
      "2 -> 4 ;\n",
      "5 [label=\"Rank_grade_business_Bad <= 0.5\\nentropy = 1.469\\nsamples = 188\\nvalue = [8, 89, 11, 80]\\nclass = marketing\", fillcolor=\"#47e53915\"] ;\n",
      "1 -> 5 ;\n",
      "6 [label=\"entropy = 0.774\\nsamples = 88\\nvalue = [2, 6, 4, 76]\\nclass = Major_marketing\", fillcolor=\"#d739e5da\"] ;\n",
      "5 -> 6 ;\n",
      "7 [label=\"entropy = 0.921\\nsamples = 100\\nvalue = [6, 83, 7, 4]\\nclass = marketing\", fillcolor=\"#47e539d0\"] ;\n",
      "5 -> 7 ;\n",
      "8 [label=\"Rank_grade_major_Bad <= 0.5\\nentropy = 1.303\\nsamples = 363\\nvalue = [235, 15, 97, 16]\\nclass = computer\", fillcolor=\"#e5813984\"] ;\n",
      "0 -> 8 [labeldistance=2.5, labelangle=-45, headlabel=\"False\"] ;\n",
      "9 [label=\"GPA_old_group_Good <= 0.5\\nentropy = 0.911\\nsamples = 178\\nvalue = [148, 7, 14, 9]\\nclass = computer\", fillcolor=\"#e58139d0\"] ;\n",
      "8 -> 9 ;\n",
      "10 [label=\"entropy = 1.056\\nsamples = 129\\nvalue = [102, 6, 13, 8]\\nclass = computer\", fillcolor=\"#e58139c4\"] ;\n",
      "9 -> 10 ;\n",
      "11 [label=\"entropy = 0.429\\nsamples = 49\\nvalue = [46, 1, 1, 1]\\nclass = computer\", fillcolor=\"#e58139ef\"] ;\n",
      "9 -> 11 ;\n",
      "12 [label=\"Rank_grade_business_Good <= 0.5\\nentropy = 1.405\\nsamples = 185\\nvalue = [87, 8, 83, 7]\\nclass = computer\", fillcolor=\"#e581390a\"] ;\n",
      "8 -> 12 ;\n",
      "13 [label=\"entropy = 0.836\\nsamples = 87\\nvalue = [6, 4, 74, 3]\\nclass = management\", fillcolor=\"#399de5d6\"] ;\n",
      "12 -> 13 ;\n",
      "14 [label=\"entropy = 0.92\\nsamples = 98\\nvalue = [81, 4, 9, 4]\\nclass = computer\", fillcolor=\"#e58139ce\"] ;\n",
      "12 -> 14 ;\n",
      "}\n"
     ]
    }
   ],
   "source": [
    "from sklearn.tree import DecisionTreeClassifier\n",
    "import matplotlib.pyplot as plt\n",
    "from sklearn.tree import export_graphviz\n",
    "from sklearn.model_selection import train_test_split\n",
    "from sklearn.metrics import accuracy_score\n",
    "import pandas as pd\n",
    "import numpy as np\n",
    "\n",
    "df = pd.read_csv('student_training.csv')\n",
    "df = pd.concat([df,pd.get_dummies(df['Study'], prefix='Study' , dummy_na=True)],axis=1).drop(['Study'],axis=1)\n",
    "df = pd.concat([df,pd.get_dummies(df['Rank_study_group'], prefix='Rank_study_group' , dummy_na=True)],axis=1).drop(['Rank_study_group'],axis=1)\n",
    "df = pd.concat([df,pd.get_dummies(df['Age_group'], prefix='Age_group' , dummy_na=True)],axis=1).drop(['Age_group'],axis=1)\n",
    "df = pd.concat([df,pd.get_dummies(df['GPA_old_group'], prefix='GPA_old_group' , dummy_na=True)],axis=1).drop(['GPA_old_group'],axis=1)\n",
    "df = pd.concat([df,pd.get_dummies(df['Rank_grade_major'], prefix='Rank_grade_major' , dummy_na=True)],axis=1).drop(['Rank_grade_major'],axis=1)\n",
    "df = pd.concat([df,pd.get_dummies(df['Rank_grade_business'], prefix='Rank_grade_business' , dummy_na=True)],axis=1).drop(['Rank_grade_business'],axis=1)\n",
    "df = pd.concat([df,pd.get_dummies(df['Rank_grade_computer'], prefix='Rank_grade_computer' , dummy_na=True)],axis=1).drop(['Rank_grade_computer'],axis=1)\n",
    "df = pd.concat([df,pd.get_dummies(df['Rank_grade_finance'], prefix='Rank_grade_finance' , dummy_na=True)],axis=1).drop(['Rank_grade_finance'],axis=1)\n",
    "df = pd.concat([df,pd.get_dummies(df['Rank_grade_total'], prefix='Rank_grade_total' , dummy_na=True)],axis=1).drop(['Rank_grade_total'],axis=1)\n",
    "# df = pd.concat([df,pd.get_dummies(df['Major'], prefix='Major' , dummy_na=True)],axis=1).drop(['Major'],axis=1)\n",
    "# x = df.drop(['Major_computer'],axis=1).drop(['Major_hotel'],axis=1).drop(['Major_management'],axis=1).drop(['Major_marketing'],axis=1).drop(['Major_nan'],axis=1)\n",
    "# y = df[[\"Major_computer\",\"Major_hotel\",\"Major_management\",\"Major_marketing\",\"Major_nan\"]]\n",
    "\n",
    "x = df.drop(['Major'],axis=1)\n",
    "y = df[\"Major\"]\n",
    "tree = []\n",
    "xplot = range(1,20,1)\n",
    "yplot=[]\n",
    "# for number in range(1,20,1):\n",
    "x_train, x_test, y_train , y_test = train_test_split(x,y,test_size=0.25,random_state=33)\n",
    "\n",
    "    # tree_clf = DecisionTreeClassifier(max_depth=3) #max_depth=2,criterion='entropy' เอาใ่ส่ใน()\n",
    "tree_clf = DecisionTreeClassifier(max_depth=3,criterion='entropy')\n",
    "tree_clf.fit(x_train, y_train)\n",
    "\n",
    "tree_dot = export_graphviz(\n",
    "    tree_clf,\n",
    "    out_file=None, # or out_file=\"iris_tree.dot\"\n",
    "    feature_names=list(x),\n",
    "    class_names=[\"computer\",\"marketing\",\"management\",\"Major_marketing\"],\n",
    "    rounded=True,\n",
    "    filled=True\n",
    ")\n",
    "# y_pred = tree_clf.predict(x_test)\n",
    "# acc = accuracy_score(y_test, y_pred)\n",
    "# tree.append(tree_dot)\n",
    "# yplot.append(acc)\n",
    "#     print(acc)\n",
    "print(tree_dot)\n"
   ]
  },
  {
   "cell_type": "code",
   "execution_count": null,
   "metadata": {},
   "outputs": [],
   "source": []
  },
  {
   "cell_type": "code",
   "execution_count": 37,
   "metadata": {},
   "outputs": [
    {
     "name": "stdout",
     "output_type": "stream",
     "text": [
      "False :  33\n",
      "True :  217\n"
     ]
    }
   ],
   "source": [
    "y_pred = tree_clf.predict(x_test)\n",
    "tmp = (y_pred != y_test).astype(int)\n",
    "indeices1 = [i for i,x in enumerate(tmp) if x == 1]\n",
    "indeices0 = [i for i,x in enumerate(tmp) if x == 0]\n",
    "# print(\"True : \"+(len(indeices0)))\n",
    "# print(\"false: \"+len(indeices1))\n",
    "print(\"False : \" ,len(indeices1))\n",
    "print(\"True : \" ,len(indeices0))"
   ]
  },
  {
   "cell_type": "code",
   "execution_count": null,
   "metadata": {},
   "outputs": [],
   "source": []
  },
  {
   "cell_type": "code",
   "execution_count": 38,
   "metadata": {},
   "outputs": [
    {
     "data": {
      "text/plain": [
       "0.868"
      ]
     },
     "execution_count": 38,
     "metadata": {},
     "output_type": "execute_result"
    }
   ],
   "source": [
    "from sklearn.metrics import accuracy_score\n",
    "accuracy_score(y_test, y_pred)"
   ]
  },
  {
   "cell_type": "code",
   "execution_count": 169,
   "metadata": {},
   "outputs": [
    {
     "data": {
      "text/plain": [
       "[<matplotlib.lines.Line2D at 0x19094379080>]"
      ]
     },
     "execution_count": 169,
     "metadata": {},
     "output_type": "execute_result"
    },
    {
     "data": {
      "image/png": "[encoded data removed]",
      "text/plain": [
       "<Figure size 432x288 with 1 Axes>"
      ]
     },
     "metadata": {},
     "output_type": "display_data"
    }
   ],
   "source": [
    "plt.plot(xplot,yplot)"
   ]
  },
  {
   "cell_type": "code",
   "execution_count": 163,
   "metadata": {},
   "outputs": [
    {
     "name": "stdout",
     "output_type": "stream",
     "text": [
      "0.672\n",
      "0.672\n",
      "0.86\n",
      "0.856\n",
      "0.832\n",
      "0.808\n",
      "0.776\n",
      "0.756\n",
      "0.732\n",
      "0.7\n",
      "0.7\n",
      "0.688\n",
      "0.68\n",
      "0.656\n",
      "0.676\n",
      "0.68\n",
      "0.676\n",
      "0.668\n",
      "0.664\n"
     ]
    }
   ],
   "source": [
    "from sklearn.tree import DecisionTreeClassifier\n",
    "import matplotlib.pyplot as plt\n",
    "from sklearn.tree import export_graphviz\n",
    "from sklearn.model_selection import train_test_split\n",
    "import pandas as pd\n",
    "import numpy as np\n",
    "\n",
    "df = pd.read_csv('student_training.csv')\n",
    "df = pd.concat([df,pd.get_dummies(df['Study'], prefix='Study' , dummy_na=True)],axis=1).drop(['Study'],axis=1)\n",
    "df = pd.concat([df,pd.get_dummies(df['Rank_study_group'], prefix='Rank_study_group' , dummy_na=True)],axis=1).drop(['Rank_study_group'],axis=1)\n",
    "df = pd.concat([df,pd.get_dummies(df['Age_group'], prefix='Age_group' , dummy_na=True)],axis=1).drop(['Age_group'],axis=1)\n",
    "df = pd.concat([df,pd.get_dummies(df['GPA_old_group'], prefix='GPA_old_group' , dummy_na=True)],axis=1).drop(['GPA_old_group'],axis=1)\n",
    "df = pd.concat([df,pd.get_dummies(df['Rank_grade_major'], prefix='Rank_grade_major' , dummy_na=True)],axis=1).drop(['Rank_grade_major'],axis=1)\n",
    "df = pd.concat([df,pd.get_dummies(df['Rank_grade_business'], prefix='Rank_grade_business' , dummy_na=True)],axis=1).drop(['Rank_grade_business'],axis=1)\n",
    "df = pd.concat([df,pd.get_dummies(df['Rank_grade_computer'], prefix='Rank_grade_computer' , dummy_na=True)],axis=1).drop(['Rank_grade_computer'],axis=1)\n",
    "df = pd.concat([df,pd.get_dummies(df['Rank_grade_finance'], prefix='Rank_grade_finance' , dummy_na=True)],axis=1).drop(['Rank_grade_finance'],axis=1)\n",
    "df = pd.concat([df,pd.get_dummies(df['Rank_grade_total'], prefix='Rank_grade_total' , dummy_na=True)],axis=1).drop(['Rank_grade_total'],axis=1)\n",
    "# df = pd.concat([df,pd.get_dummies(df['Major'], prefix='Major' , dummy_na=True)],axis=1).drop(['Major'],axis=1)\n",
    "# x = df.drop(['Major_computer'],axis=1).drop(['Major_hotel'],axis=1).drop(['Major_management'],axis=1).drop(['Major_marketing'],axis=1).drop(['Major_nan'],axis=1)\n",
    "# y = df[[\"Major_computer\",\"Major_hotel\",\"Major_management\",\"Major_marketing\",\"Major_nan\"]]\n",
    "\n",
    "x = df.drop(['Major'],axis=1)\n",
    "y = df[\"Major\"]\n",
    "tree = []\n",
    "xplot = range(1,20,1)\n",
    "yplot=[]\n",
    "x_train, x_test, y_train , y_test = train_test_split(x,y,test_size=0.25,random_state=33)\n",
    "for number in range(1,20,1):\n",
    "    tree_clf = DecisionTreeClassifier(max_depth=number) #max_depth=2,criterion='entropy' เอาใ่ส่ใน()\n",
    "    # tree_clf = DecisionTreeClassifier(max_depth=3,criterion='entropy') # \n",
    "    tree_clf.fit(x_train, y_train)\n",
    "\n",
    "    tree_dot = export_graphviz(\n",
    "        tree_clf,\n",
    "        out_file=None, # or out_file=\"iris_tree.dot\"\n",
    "        feature_names=list(x),\n",
    "        class_names=[\"computer\",\"marketing\",\"management\",\"Major_marketing\"],\n",
    "        rounded=True,\n",
    "        filled=True\n",
    "    )\n",
    "    y_pred = tree_clf.predict(x_test)\n",
    "    acc = accuracy_score(y_test, y_pred)\n",
    "    tree.append(tree_dot)\n",
    "    yplot.append(acc)\n",
    "    print(acc)"
   ]
  },
  {
   "cell_type": "code",
   "execution_count": 81,
   "metadata": {},
   "outputs": [
    {
     "data": {
      "text/plain": [
       "0.676"
      ]
     },
     "execution_count": 81,
     "metadata": {},
     "output_type": "execute_result"
    }
   ],
   "source": [
    "y_pred = tree_clf.predict(x_test)\n",
    "from sklearn.metrics import accuracy_score\n",
    "accuracy_score(y_test, y_pred)\n"
   ]
  },
  {
   "cell_type": "code",
   "execution_count": 164,
   "metadata": {},
   "outputs": [
    {
     "data": {
      "text/plain": [
       "[<matplotlib.lines.Line2D at 0x190942ef1d0>]"
      ]
     },
     "execution_count": 164,
     "metadata": {},
     "output_type": "execute_result"
    },
    {
     "data": {
      "image/png": "[encoded data removed]",
      "text/plain": [
       "<Figure size 432x288 with 1 Axes>"
      ]
     },
     "metadata": {},
     "output_type": "display_data"
    }
   ],
   "source": [
    "plt.plot(xplot,yplot)"
   ]
  },
  {
   "cell_type": "code",
   "execution_count": 70,
   "metadata": {},
   "outputs": [
    {
     "name": "stdout",
     "output_type": "stream",
     "text": [
      "digraph Tree {\n",
      "node [shape=box, style=\"filled, rounded\", color=\"black\", fontname=helvetica] ;\n",
      "edge [fontname=helvetica] ;\n",
      "0 [label=\"Rank_grade_total_Good <= 0.5\\nentropy = 1.872\\nsamples = 1000\\nvalue = [350, 357, 156, 137]\\nclass = marketing\", fillcolor=\"#47e53903\"] ;\n",
      "1 [label=\"Rank_grade_major_Good <= 0.5\\nentropy = 1.275\\nsamples = 496\\nvalue = [327, 21, 129, 19]\\nclass = computer\", fillcolor=\"#e581398a\"] ;\n",
      "0 -> 1 [labeldistance=2.5, labelangle=45, headlabel=\"True\"] ;\n",
      "2 [label=\"Rank_grade_business_Good <= 0.5\\nentropy = 1.387\\nsamples = 249\\nvalue = [117, 11, 113, 8]\\nclass = computer\", fillcolor=\"#e5813908\"] ;\n",
      "1 -> 2 ;\n",
      "3 [label=\"entropy = 0.834\\nsamples = 121\\nvalue = [8, 6, 103, 4]\\nclass = management\", fillcolor=\"#399de5d6\"] ;\n",
      "2 -> 3 ;\n",
      "4 [label=\"entropy = 0.824\\nsamples = 128\\nvalue = [109, 5, 10, 4]\\nclass = computer\", fillcolor=\"#e58139d6\"] ;\n",
      "2 -> 4 ;\n",
      "5 [label=\"Student_ID <= 830.5\\nentropy = 0.842\\nsamples = 247\\nvalue = [210, 10, 16, 11]\\nclass = computer\", fillcolor=\"#e58139d6\"] ;\n",
      "1 -> 5 ;\n",
      "6 [label=\"entropy = 0.884\\nsamples = 204\\nvalue = [171, 7, 15, 11]\\nclass = computer\", fillcolor=\"#e58139d2\"] ;\n",
      "5 -> 6 ;\n",
      "7 [label=\"entropy = 0.522\\nsamples = 43\\nvalue = [39, 3, 1, 0]\\nclass = computer\", fillcolor=\"#e58139e5\"] ;\n",
      "5 -> 7 ;\n",
      "8 [label=\"Rank_grade_major_Good <= 0.5\\nentropy = 1.31\\nsamples = 504\\nvalue = [23, 336, 27, 118]\\nclass = marketing\", fillcolor=\"#47e53990\"] ;\n",
      "0 -> 8 [labeldistance=2.5, labelangle=-45, headlabel=\"False\"] ;\n",
      "9 [label=\"Student_ID <= 437.5\\nentropy = 0.849\\nsamples = 259\\nvalue = [14, 220, 14, 11]\\nclass = marketing\", fillcolor=\"#47e539d6\"] ;\n",
      "8 -> 9 ;\n",
      "10 [label=\"entropy = 0.582\\nsamples = 109\\nvalue = [1, 98, 8, 2]\\nclass = marketing\", fillcolor=\"#47e539e3\"] ;\n",
      "9 -> 10 ;\n",
      "11 [label=\"entropy = 0.978\\nsamples = 150\\nvalue = [13, 122, 6, 9]\\nclass = marketing\", fillcolor=\"#47e539cb\"] ;\n",
      "9 -> 11 ;\n",
      "12 [label=\"Rank_grade_business_Good <= 0.5\\nentropy = 1.433\\nsamples = 245\\nvalue = [9, 116, 13, 107]\\nclass = marketing\", fillcolor=\"#47e53911\"] ;\n",
      "8 -> 12 ;\n",
      "13 [label=\"entropy = 0.85\\nsamples = 126\\nvalue = [6, 107, 7, 6]\\nclass = marketing\", fillcolor=\"#47e539d6\"] ;\n",
      "12 -> 13 ;\n",
      "14 [label=\"entropy = 0.834\\nsamples = 119\\nvalue = [3, 9, 6, 101]\\nclass = Major_marketing\", fillcolor=\"#d739e5d5\"] ;\n",
      "12 -> 14 ;\n",
      "}\n"
     ]
    }
   ],
   "source": [
    "from sklearn.tree import DecisionTreeClassifier\n",
    "from sklearn.tree import export_graphviz\n",
    "from sklearn.model_selection import train_test_split\n",
    "import pandas as pd\n",
    "import numpy as np\n",
    "\n",
    "df = pd.read_csv('student_training.csv')\n",
    "df = pd.concat([df,pd.get_dummies(df['Study'], prefix='Study' , dummy_na=True)],axis=1).drop(['Study'],axis=1)\n",
    "df = pd.concat([df,pd.get_dummies(df['Rank_study_group'], prefix='Rank_study_group' , dummy_na=True)],axis=1).drop(['Rank_study_group'],axis=1)\n",
    "df = pd.concat([df,pd.get_dummies(df['Age_group'], prefix='Age_group' , dummy_na=True)],axis=1).drop(['Age_group'],axis=1)\n",
    "df = pd.concat([df,pd.get_dummies(df['GPA_old_group'], prefix='GPA_old_group' , dummy_na=True)],axis=1).drop(['GPA_old_group'],axis=1)\n",
    "df = pd.concat([df,pd.get_dummies(df['Rank_grade_major'], prefix='Rank_grade_major' , dummy_na=True)],axis=1).drop(['Rank_grade_major'],axis=1)\n",
    "df = pd.concat([df,pd.get_dummies(df['Rank_grade_business'], prefix='Rank_grade_business' , dummy_na=True)],axis=1).drop(['Rank_grade_business'],axis=1)\n",
    "df = pd.concat([df,pd.get_dummies(df['Rank_grade_computer'], prefix='Rank_grade_computer' , dummy_na=True)],axis=1).drop(['Rank_grade_computer'],axis=1)\n",
    "df = pd.concat([df,pd.get_dummies(df['Rank_grade_finance'], prefix='Rank_grade_finance' , dummy_na=True)],axis=1).drop(['Rank_grade_finance'],axis=1)\n",
    "df = pd.concat([df,pd.get_dummies(df['Rank_grade_total'], prefix='Rank_grade_total' , dummy_na=True)],axis=1).drop(['Rank_grade_total'],axis=1)\n",
    "# df = pd.concat([df,pd.get_dummies(df['Major'], prefix='Major' , dummy_na=True)],axis=1).drop(['Major'],axis=1)\n",
    "# x = df.drop(['Major_computer'],axis=1).drop(['Major_hotel'],axis=1).drop(['Major_management'],axis=1).drop(['Major_marketing'],axis=1).drop(['Major_nan'],axis=1)\n",
    "# y = df[[\"Major_computer\",\"Major_hotel\",\"Major_management\",\"Major_marketing\",\"Major_nan\"]]\n",
    "\n",
    "data = pd.read_csv('student_scoring.csv')\n",
    "\n",
    "data = pd.concat([data,pd.get_dummies(data['Study'], prefix='Study' , dummy_na=True)],axis=1).drop(['Study'],axis=1)\n",
    "data = pd.concat([data,pd.get_dummies(data['Rank_study_group'], prefix='Rank_study_group' , dummy_na=True)],axis=1).drop(['Rank_study_group'],axis=1)\n",
    "data = pd.concat([data,pd.get_dummies(data['Age_group'], prefix='Age_group' , dummy_na=True)],axis=1).drop(['Age_group'],axis=1)\n",
    "data = pd.concat([data,pd.get_dummies(data['GPA_old_group'], prefix='GPA_old_group' , dummy_na=True)],axis=1).drop(['GPA_old_group'],axis=1)\n",
    "data = pd.concat([data,pd.get_dummies(data['Rank_grade_major'], prefix='Rank_grade_major' , dummy_na=True)],axis=1).drop(['Rank_grade_major'],axis=1)\n",
    "data = pd.concat([data,pd.get_dummies(data['Rank_grade_business'], prefix='Rank_grade_business' , dummy_na=True)],axis=1).drop(['Rank_grade_business'],axis=1)\n",
    "data = pd.concat([data,pd.get_dummies(data['Rank_grade_computer'], prefix='Rank_grade_computer' , dummy_na=True)],axis=1).drop(['Rank_grade_computer'],axis=1)\n",
    "data = pd.concat([data,pd.get_dummies(data['Rank_grade_finance'], prefix='Rank_grade_finance' , dummy_na=True)],axis=1).drop(['Rank_grade_finance'],axis=1)\n",
    "data = pd.concat([data,pd.get_dummies(data['Rank_grade_total'], prefix='Rank_grade_total' , dummy_na=True)],axis=1).drop(['Rank_grade_total'],axis=1)\n",
    "\n",
    "x = df.drop(['Major'],axis=1)\n",
    "y = df[\"Major\"]\n",
    "\n",
    "\n",
    "# x_train, x_test, y_train , y_test = train_test_split(x,y,test_size=0.25,random_state=33)\n",
    "\n",
    "# tree_clf = DecisionTreeClassifier(max_depth=3) #max_depth=2,criterion='entropy' เอาใ่ส่ใน()\n",
    "tree_clf = DecisionTreeClassifier(max_depth=3,criterion='entropy') # \n",
    "tree_clf.fit(x, y)\n",
    "\n",
    "tree_dot = export_graphviz(\n",
    "    tree_clf,\n",
    "    out_file=None, # or out_file=\"iris_tree.dot\"\n",
    "    feature_names=list(x),\n",
    "    class_names=[\"computer\",\"marketing\",\"management\",\"Major_marketing\"],\n",
    "    rounded=True,\n",
    "    filled=True\n",
    ")\n",
    "print(tree_dot)\n"
   ]
  },
  {
   "cell_type": "code",
   "execution_count": 8,
   "metadata": {},
   "outputs": [
    {
     "data": {
      "text/plain": [
       "array(['hotel', 'hotel', 'management', 'computer', 'marketing',\n",
       "       'computer', 'management', 'hotel', 'computer', 'hotel', 'hotel',\n",
       "       'computer', 'computer', 'computer', 'computer', 'computer',\n",
       "       'hotel', 'hotel', 'computer', 'marketing', 'management',\n",
       "       'computer', 'management', 'computer', 'computer', 'marketing',\n",
       "       'hotel', 'computer', 'computer', 'hotel', 'management', 'hotel',\n",
       "       'hotel', 'hotel', 'hotel', 'computer', 'hotel', 'marketing',\n",
       "       'marketing', 'management', 'management', 'hotel', 'hotel', 'hotel',\n",
       "       'computer', 'computer', 'management', 'hotel', 'hotel', 'computer',\n",
       "       'computer', 'hotel', 'management', 'computer', 'marketing',\n",
       "       'management', 'hotel', 'computer', 'management', 'computer',\n",
       "       'hotel', 'management', 'computer', 'marketing', 'hotel',\n",
       "       'computer', 'computer', 'management', 'hotel', 'hotel', 'computer',\n",
       "       'computer', 'computer', 'hotel', 'hotel', 'computer', 'computer',\n",
       "       'computer', 'computer', 'marketing', 'computer', 'hotel',\n",
       "       'computer', 'hotel', 'hotel', 'computer', 'hotel', 'computer',\n",
       "       'computer', 'hotel', 'computer', 'computer', 'computer', 'hotel',\n",
       "       'hotel', 'computer', 'hotel', 'computer', 'computer', 'computer',\n",
       "       'hotel', 'management', 'computer', 'hotel', 'computer', 'hotel',\n",
       "       'computer', 'marketing', 'computer', 'hotel', 'computer', 'hotel',\n",
       "       'computer', 'hotel', 'computer', 'computer', 'computer',\n",
       "       'computer', 'computer', 'hotel', 'hotel', 'hotel', 'hotel',\n",
       "       'computer', 'management', 'marketing', 'computer', 'computer',\n",
       "       'hotel', 'hotel', 'management', 'hotel', 'computer', 'marketing',\n",
       "       'hotel', 'computer', 'hotel', 'hotel', 'computer', 'management',\n",
       "       'marketing', 'management', 'computer', 'hotel', 'hotel', 'hotel',\n",
       "       'hotel', 'hotel', 'management', 'management', 'marketing',\n",
       "       'marketing', 'marketing', 'computer', 'marketing', 'management',\n",
       "       'management', 'hotel', 'marketing', 'marketing', 'computer',\n",
       "       'computer', 'marketing', 'management', 'computer', 'computer',\n",
       "       'hotel', 'hotel', 'computer', 'computer', 'marketing', 'hotel',\n",
       "       'computer', 'hotel', 'computer', 'hotel', 'computer', 'marketing',\n",
       "       'hotel', 'computer', 'marketing', 'management', 'hotel', 'hotel',\n",
       "       'hotel', 'management', 'computer', 'computer', 'computer', 'hotel',\n",
       "       'hotel', 'computer', 'computer', 'hotel', 'computer', 'computer',\n",
       "       'computer', 'hotel', 'computer', 'computer', 'management',\n",
       "       'marketing', 'hotel', 'computer', 'management', 'hotel',\n",
       "       'computer', 'computer', 'hotel', 'hotel', 'hotel', 'marketing',\n",
       "       'management', 'computer', 'hotel', 'computer', 'management',\n",
       "       'marketing', 'computer', 'computer', 'hotel', 'hotel', 'computer',\n",
       "       'marketing', 'computer', 'marketing', 'computer', 'computer',\n",
       "       'marketing', 'hotel', 'management', 'hotel', 'marketing',\n",
       "       'computer', 'hotel', 'computer', 'hotel', 'management',\n",
       "       'marketing', 'management', 'computer', 'computer', 'management',\n",
       "       'hotel', 'hotel', 'management', 'marketing', 'management',\n",
       "       'management', 'computer'], dtype=object)"
      ]
     },
     "execution_count": 8,
     "metadata": {},
     "output_type": "execute_result"
    }
   ],
   "source": [
    "y_pred = tree_clf.predict(x_test)\n",
    "y_pred"
   ]
  },
  {
   "cell_type": "code",
   "execution_count": 9,
   "metadata": {},
   "outputs": [],
   "source": [
    "from sklearn import datasets, metrics\n",
    "from sklearn.tree import DecisionTreeClassifier\n",
    "from sklearn.tree import export_graphviz\n",
    "from sklearn.model_selection import train_test_split\n",
    "import pandas as pd\n",
    "import numpy as np\n",
    "\n",
    "df = pd.read_csv('student_training.csv')\n",
    "df = pd.concat([df,pd.get_dummies(df['Study'], prefix='Study' , dummy_na=True)],axis=1).drop(['Study'],axis=1)\n",
    "df = pd.concat([df,pd.get_dummies(df['Rank_study_group'], prefix='Rank_study_group' , dummy_na=True)],axis=1).drop(['Rank_study_group'],axis=1)\n",
    "df = pd.concat([df,pd.get_dummies(df['Age_group'], prefix='Age_group' , dummy_na=True)],axis=1).drop(['Age_group'],axis=1)\n",
    "df = pd.concat([df,pd.get_dummies(df['GPA_old_group'], prefix='GPA_old_group' , dummy_na=True)],axis=1).drop(['GPA_old_group'],axis=1)\n",
    "df = pd.concat([df,pd.get_dummies(df['Rank_grade_major'], prefix='Rank_grade_major' , dummy_na=True)],axis=1).drop(['Rank_grade_major'],axis=1)\n",
    "df = pd.concat([df,pd.get_dummies(df['Rank_grade_business'], prefix='Rank_grade_business' , dummy_na=True)],axis=1).drop(['Rank_grade_business'],axis=1)\n",
    "df = pd.concat([df,pd.get_dummies(df['Rank_grade_computer'], prefix='Rank_grade_computer' , dummy_na=True)],axis=1).drop(['Rank_grade_computer'],axis=1)\n",
    "df = pd.concat([df,pd.get_dummies(df['Rank_grade_finance'], prefix='Rank_grade_finance' , dummy_na=True)],axis=1).drop(['Rank_grade_finance'],axis=1)\n",
    "df = pd.concat([df,pd.get_dummies(df['Rank_grade_total'], prefix='Rank_grade_total' , dummy_na=True)],axis=1).drop(['Rank_grade_total'],axis=1)\n",
    "# df = pd.concat([df,pd.get_dummies(df['Major'], prefix='Major' , dummy_na=True)],axis=1).drop(['Major'],axis=1)\n",
    "# x = df.drop(['Major_computer'],axis=1).drop(['Major_hotel'],axis=1).drop(['Major_management'],axis=1).drop(['Major_marketing'],axis=1).drop(['Major_nan'],axis=1)\n",
    "# y = df[[\"Major_computer\",\"Major_hotel\",\"Major_management\",\"Major_marketing\",\"Major_nan\"]]\n",
    "\n",
    "data = pd.read_csv('student_scoring.csv')\n",
    "\n",
    "data = pd.concat([data,pd.get_dummies(data['Study'], prefix='Study' , dummy_na=True)],axis=1).drop(['Study'],axis=1)\n",
    "data = pd.concat([data,pd.get_dummies(data['Rank_study_group'], prefix='Rank_study_group' , dummy_na=True)],axis=1).drop(['Rank_study_group'],axis=1)\n",
    "data = pd.concat([data,pd.get_dummies(data['Age_group'], prefix='Age_group' , dummy_na=True)],axis=1).drop(['Age_group'],axis=1)\n",
    "data = pd.concat([data,pd.get_dummies(data['GPA_old_group'], prefix='GPA_old_group' , dummy_na=True)],axis=1).drop(['GPA_old_group'],axis=1)\n",
    "data = pd.concat([data,pd.get_dummies(data['Rank_grade_major'], prefix='Rank_grade_major' , dummy_na=True)],axis=1).drop(['Rank_grade_major'],axis=1)\n",
    "data = pd.concat([data,pd.get_dummies(data['Rank_grade_business'], prefix='Rank_grade_business' , dummy_na=True)],axis=1).drop(['Rank_grade_business'],axis=1)\n",
    "data = pd.concat([data,pd.get_dummies(data['Rank_grade_computer'], prefix='Rank_grade_computer' , dummy_na=True)],axis=1).drop(['Rank_grade_computer'],axis=1)\n",
    "data = pd.concat([data,pd.get_dummies(data['Rank_grade_finance'], prefix='Rank_grade_finance' , dummy_na=True)],axis=1).drop(['Rank_grade_finance'],axis=1)\n",
    "data = pd.concat([data,pd.get_dummies(data['Rank_grade_total'], prefix='Rank_grade_total' , dummy_na=True)],axis=1).drop(['Rank_grade_total'],axis=1)\n",
    "\n",
    "x = df.drop(['Major'],axis=1)\n",
    "y = df[\"Major\"]\n",
    "x_test = data\n",
    "\n",
    "# x_train, x_test, y_train , y_test = train_test_split(x,y,test_size=0.25,random_state=33)\n",
    "\n",
    "# tree_clf = DecisionTreeClassifier(max_depth=3) #max_depth=2,criterion='entropy' เอาใ่ส่ใน()\n",
    "tree_clf = DecisionTreeClassifier(max_depth=4) # \n",
    "tree_clf.fit(x, y)\n",
    "\n",
    "tree_dot = export_graphviz(\n",
    "    tree_clf,\n",
    "    out_file=None, # or out_file=\"iris_tree.dot\"\n",
    "    feature_names=list(x),\n",
    "    class_names=[\"computer\",\"marketing\",\"management\",\"Major_marketing\"],\n",
    "    rounded=True,\n",
    "    filled=True\n",
    ")\n",
    "# print(tree_dot)\n"
   ]
  },
  {
   "cell_type": "code",
   "execution_count": 10,
   "metadata": {},
   "outputs": [
    {
     "data": {
      "text/plain": [
       "array(['computer', 'marketing', 'marketing', 'management', 'computer',\n",
       "       'hotel', 'computer', 'computer', 'hotel', 'hotel', 'management',\n",
       "       'computer', 'hotel', 'computer', 'management', 'computer',\n",
       "       'computer', 'computer', 'hotel', 'hotel', 'hotel', 'computer',\n",
       "       'hotel', 'hotel', 'computer', 'management', 'hotel', 'computer',\n",
       "       'hotel', 'hotel', 'hotel', 'computer', 'hotel', 'computer',\n",
       "       'computer', 'computer', 'hotel', 'computer', 'marketing', 'hotel',\n",
       "       'hotel', 'hotel', 'management', 'hotel', 'hotel', 'computer',\n",
       "       'hotel', 'marketing', 'computer', 'hotel', 'computer', 'computer',\n",
       "       'hotel', 'computer', 'hotel', 'computer', 'hotel', 'computer',\n",
       "       'marketing', 'computer', 'hotel', 'computer', 'computer', 'hotel',\n",
       "       'computer', 'computer', 'computer', 'computer', 'management',\n",
       "       'hotel', 'computer', 'management', 'management', 'computer',\n",
       "       'hotel', 'hotel', 'hotel', 'hotel', 'marketing', 'computer',\n",
       "       'management', 'computer', 'hotel', 'computer', 'hotel',\n",
       "       'marketing', 'hotel', 'hotel', 'computer', 'hotel', 'hotel',\n",
       "       'marketing', 'marketing', 'computer', 'computer', 'management',\n",
       "       'marketing', 'hotel', 'hotel', 'computer'], dtype=object)"
      ]
     },
     "execution_count": 10,
     "metadata": {},
     "output_type": "execute_result"
    }
   ],
   "source": [
    "y_pred = tree_clf.predict(x_test)\n",
    "y_pred\n",
    "# y_pred.reshape()\n",
    "# confusion_matrix(y, y_pred, labels=[\"computer\",\"marketing\",\"management\",\"Major_marketing\"])"
   ]
  },
  {
   "cell_type": "code",
   "execution_count": null,
   "metadata": {},
   "outputs": [],
   "source": []
  },
  {
   "cell_type": "code",
   "execution_count": null,
   "metadata": {},
   "outputs": [],
   "source": []
  },
  {
   "cell_type": "code",
   "execution_count": null,
   "metadata": {},
   "outputs": [],
   "source": []
  }
 ],
 "metadata": {
  "kernelspec": {
   "display_name": "Python 3",
   "language": "python",
   "name": "python3"
  },
  "language_info": {
   "codemirror_mode": {
    "name": "ipython",
    "version": 3
   },
   "file_extension": ".py",
   "mimetype": "text/x-python",
   "name": "python",
   "nbconvert_exporter": "python",
   "pygments_lexer": "ipython3",
   "version": "3.6.5"
  }
 },
 "nbformat": 4,
 "nbformat_minor": 2
}
